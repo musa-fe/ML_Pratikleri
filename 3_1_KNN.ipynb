### 1 Veri Seti İncelenmesi 

# sklearn: ML Library
from sklearn.datasets import load_breast_cancer
import pandas as pd
cancer = load_breast_cancer()

df = pd.DataFrame(data = cancer.data, columns = cancer.feature_names)
df["target"] = cancer.target



### Makine Ogrenmesi Modelinin Secilmesi-
