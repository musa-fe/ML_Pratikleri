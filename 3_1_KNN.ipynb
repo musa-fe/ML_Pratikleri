{
 "cells": [
  {
   "cell_type": "code",
   "execution_count": null,
   "id": "33ceda01",
   "metadata": {
    "vscode": {
     "languageId": "plaintext"
    }
   },
   "outputs": [],
   "source": [
    "# sklearn: ML Library\n",
    "from sklearn.datasets import load_breast_cancer\n",
    "import pandas as pd\n",
    "cancer = load_breast_cancer()\n",
    "\n",
    "df = pd.DataFrame(data = cancer.data, columns = cancer.feature_names)\n",
    "df[\"target\"] = cancer.target"
   ]
  },
  {
   "cell_type": "markdown",
   "id": "63d4b071",
   "metadata": {},
   "source": [
    "1 Veri Seti İncelenmesi "
   ]
  }
 ],
 "metadata": {
  "language_info": {
   "name": "python"
  }
 },
 "nbformat": 4,
 "nbformat_minor": 5
}
