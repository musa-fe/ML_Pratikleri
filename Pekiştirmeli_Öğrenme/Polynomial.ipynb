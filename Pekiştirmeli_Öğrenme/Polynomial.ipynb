{
  "cells": [
    {
      "cell_type": "markdown",
      "source": [
        "https://gymnasium.farama.org/  \n",
        "pekiştirmeli öğrenme için örnek çalışmalar"
      ],
      "metadata": {
        "id": "r2K4P-Q3Zusw"
      },
      "id": "r2K4P-Q3Zusw"
    },
    {
      "cell_type": "code",
      "metadata": {
        "colab": {
          "base_uri": "https://localhost:8080/"
        },
        "id": "88ab61fc",
        "outputId": "384b18f5-8cb8-4cd1-8224-a768e4e4ab5e"
      },
      "source": [
        "!pip install numpy==1.23.5"
      ],
      "id": "88ab61fc",
      "execution_count": 1,
      "outputs": [
        {
          "output_type": "stream",
          "name": "stdout",
          "text": [
            "Requirement already satisfied: numpy==1.23.5 in /usr/local/lib/python3.11/dist-packages (1.23.5)\n"
          ]
        }
      ]
    },
    {
      "cell_type": "code",
      "source": [
        "import gym\n",
        "import random\n",
        "import numpy as np\n"
      ],
      "metadata": {
        "id": "lMv7VGVJZugV"
      },
      "id": "lMv7VGVJZugV",
      "execution_count": 5,
      "outputs": []
    },
    {
      "cell_type": "code",
      "source": [
        "environment = gym.make(\"FrozenLake-v1\", is_slippery=False, render_mode=\"ansi\", new_step_api=True)\n",
        "environment.reset()\n",
        "\n",
        "nb_states = environment.observation_space.n\n",
        "nb_actions = environment.action_space.n\n",
        "qtable = np.zeros((nb_states, nb_actions))\n",
        "\n",
        "print(\"Q-table:\")\n",
        "print(qtable)\n",
        "\n",
        "action = environment.action_space.sample()\n",
        "\n",
        "\"\"\"\n",
        "sol: 0\n",
        "asagi: 1\n",
        "sag: 2\n",
        "yukari: 3\n",
        "\"\"\"\n",
        "\n",
        "new_state, reward, terminated, truncated, info = environment.step(action)\n",
        "done = terminated or truncated"
      ],
      "metadata": {
        "colab": {
          "base_uri": "https://localhost:8080/"
        },
        "id": "BIkwo2wvZuiM",
        "outputId": "9c579e21-d5b3-4998-88d8-69b208f7975c"
      },
      "id": "BIkwo2wvZuiM",
      "execution_count": 6,
      "outputs": [
        {
          "output_type": "stream",
          "name": "stdout",
          "text": [
            "Q-table:\n",
            "[[0. 0. 0. 0.]\n",
            " [0. 0. 0. 0.]\n",
            " [0. 0. 0. 0.]\n",
            " [0. 0. 0. 0.]\n",
            " [0. 0. 0. 0.]\n",
            " [0. 0. 0. 0.]\n",
            " [0. 0. 0. 0.]\n",
            " [0. 0. 0. 0.]\n",
            " [0. 0. 0. 0.]\n",
            " [0. 0. 0. 0.]\n",
            " [0. 0. 0. 0.]\n",
            " [0. 0. 0. 0.]\n",
            " [0. 0. 0. 0.]\n",
            " [0. 0. 0. 0.]\n",
            " [0. 0. 0. 0.]\n",
            " [0. 0. 0. 0.]]\n"
          ]
        }
      ]
    }
  ],
  "metadata": {
    "kernelspec": {
      "display_name": "base",
      "language": "python",
      "name": "python3"
    },
    "language_info": {
      "codemirror_mode": {
        "name": "ipython",
        "version": 3
      },
      "file_extension": ".py",
      "mimetype": "text/x-python",
      "name": "python",
      "nbconvert_exporter": "python",
      "pygments_lexer": "ipython3",
      "version": "3.12.4"
    },
    "colab": {
      "provenance": []
    }
  },
  "nbformat": 4,
  "nbformat_minor": 5
}