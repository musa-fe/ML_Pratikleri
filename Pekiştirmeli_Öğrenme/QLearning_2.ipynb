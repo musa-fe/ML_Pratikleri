{
  "cells": [
    {
      "cell_type": "markdown",
      "source": [
        "https://gymnasium.farama.org/  \n",
        "pekiştirmeli öğrenme için örnek çalışmalar"
      ],
      "metadata": {
        "id": "r2K4P-Q3Zusw"
      },
      "id": "r2K4P-Q3Zusw"
    },
    {
      "cell_type": "code",
      "metadata": {
        "colab": {
          "base_uri": "https://localhost:8080/"
        },
        "id": "7ac55039",
        "outputId": "28c1cdcb-7241-43d3-b871-6b25c733d2e8"
      },
      "source": [
        "!pip install \"numpy<2.0.0\""
      ],
      "id": "7ac55039",
      "execution_count": 13,
      "outputs": [
        {
          "output_type": "stream",
          "name": "stdout",
          "text": [
            "Requirement already satisfied: numpy<2.0.0 in /usr/local/lib/python3.11/dist-packages (1.26.4)\n"
          ]
        }
      ]
    },
    {
      "cell_type": "code",
      "source": [
        "import gym\n",
        "import random\n",
        "import numpy as np\n",
        "from tqdm import tqdm\n",
        "import matplotlib.pyplot as plt\n",
        "\n",
        "environment = gym.make(\"FrozenLake-v1\", is_slippery = False)\n",
        "# environment.reset() # No need to call reset here, it's called in the loop\n",
        "\n",
        "nb_states = environment.observation_space.n\n",
        "nb_actions = environment.action_space.n\n",
        "qtable = np.zeros((nb_states, nb_actions))\n",
        "\n",
        "print(\"Q-table:\")\n",
        "print(qtable) # ajanin beyni\n",
        "\n",
        "episodes = 1000 # episode\n",
        "alpha = 0.5 # learning rate\n",
        "gamma = 0.9 # discount rate\n",
        "\n",
        "outcomes = []\n",
        "\n",
        "# training\n",
        "for _ in tqdm(range(episodes)):\n",
        "\n",
        "    reset_output = environment.reset()\n",
        "    if isinstance(reset_output, tuple):\n",
        "        state = reset_output[0]\n",
        "    else:\n",
        "        state = reset_output\n",
        "\n",
        "    done = False # ajanin basari durumu\n",
        "    outcomes.append(\"Failure\")\n",
        "\n",
        "    while not done: # ajan basarili olana kadar state icerisinde hareket et (action sec ve uygula)\n",
        "\n",
        "        if isinstance(state, int) and np.max(qtable[state]) > 0:\n",
        "            action = np.argmax(qtable[state])\n",
        "        else:\n",
        "            action = environment.action_space.sample()\n",
        "\n",
        "\n",
        "        # step (hareketi uygula)\n",
        "        new_state, reward, terminated, truncated, info = environment.step(action)\n",
        "        done = terminated or truncated\n",
        "\n",
        "\n",
        "        if isinstance(state, int) and isinstance(new_state, int):\n",
        "          qtable[state, action] = qtable[state, action] + alpha * (reward + gamma * np.max(qtable[new_state]) - qtable[state, action])\n",
        "\n",
        "        state = new_state\n",
        "\n",
        "        if reward:\n",
        "            outcomes[-1] = \"Success\"\n",
        "\n",
        "environment.close()\n",
        "\n",
        "print(\"Qtable After Training: \")\n",
        "print(qtable)\n",
        "\n",
        "# görselleştirme\n",
        "plt.bar(range(episodes), [1 if outcome == \"Success\" else 0 for outcome in outcomes])\n",
        "plt.xlabel(\"Episodes\")\n",
        "plt.ylabel(\"Success (1) / Failure (0)\")\n",
        "plt.title(\"Q-Learning Training Outcomes\")\n",
        "plt.show()"
      ],
      "metadata": {
        "colab": {
          "base_uri": "https://localhost:8080/",
          "height": 1000
        },
        "id": "-Id3KbKUhZTs",
        "outputId": "4dbcf6a5-17aa-4e77-f24d-bd1433f58fc8"
      },
      "id": "-Id3KbKUhZTs",
      "execution_count": 14,
      "outputs": [
        {
          "output_type": "stream",
          "name": "stdout",
          "text": [
            "Q-table:\n",
            "[[0. 0. 0. 0.]\n",
            " [0. 0. 0. 0.]\n",
            " [0. 0. 0. 0.]\n",
            " [0. 0. 0. 0.]\n",
            " [0. 0. 0. 0.]\n",
            " [0. 0. 0. 0.]\n",
            " [0. 0. 0. 0.]\n",
            " [0. 0. 0. 0.]\n",
            " [0. 0. 0. 0.]\n",
            " [0. 0. 0. 0.]\n",
            " [0. 0. 0. 0.]\n",
            " [0. 0. 0. 0.]\n",
            " [0. 0. 0. 0.]\n",
            " [0. 0. 0. 0.]\n",
            " [0. 0. 0. 0.]\n",
            " [0. 0. 0. 0.]]\n"
          ]
        },
        {
          "output_type": "stream",
          "name": "stderr",
          "text": [
            "  0%|          | 0/1000 [00:00<?, ?it/s]/usr/local/lib/python3.11/dist-packages/gym/utils/passive_env_checker.py:233: DeprecationWarning: `np.bool8` is a deprecated alias for `np.bool_`.  (Deprecated NumPy 1.24)\n",
            "  if not isinstance(terminated, (bool, np.bool8)):\n",
            "100%|██████████| 1000/1000 [00:00<00:00, 5255.83it/s]"
          ]
        },
        {
          "output_type": "stream",
          "name": "stdout",
          "text": [
            "Qtable After Training: \n",
            "[[0.       0.       0.59049  0.      ]\n",
            " [0.       0.       0.6561   0.      ]\n",
            " [0.       0.729    0.       0.      ]\n",
            " [0.       0.       0.       0.      ]\n",
            " [0.       0.       0.       0.      ]\n",
            " [0.       0.       0.       0.      ]\n",
            " [0.       0.81     0.       0.      ]\n",
            " [0.       0.       0.       0.      ]\n",
            " [0.       0.       0.       0.      ]\n",
            " [0.       0.       0.       0.      ]\n",
            " [0.       0.9      0.       0.      ]\n",
            " [0.       0.       0.       0.      ]\n",
            " [0.       0.       0.       0.      ]\n",
            " [0.       0.       0.421875 0.      ]\n",
            " [0.       0.       1.       0.      ]\n",
            " [0.       0.       0.       0.      ]]\n"
          ]
        },
        {
          "output_type": "stream",
          "name": "stderr",
          "text": [
            "\n"
          ]
        },
        {
          "output_type": "display_data",
          "data": {
            "text/plain": [
              "<Figure size 640x480 with 1 Axes>"
            ],
            "image/png": "[encoded data removed]"
          },
          "metadata": {}
        }
      ]
    }
  ],
  "metadata": {
    "kernelspec": {
      "display_name": "base",
      "language": "python",
      "name": "python3"
    },
    "language_info": {
      "codemirror_mode": {
        "name": "ipython",
        "version": 3
      },
      "file_extension": ".py",
      "mimetype": "text/x-python",
      "name": "python",
      "nbconvert_exporter": "python",
      "pygments_lexer": "ipython3",
      "version": "3.12.4"
    },
    "colab": {
      "provenance": []
    }
  },
  "nbformat": 4,
  "nbformat_minor": 5
}
