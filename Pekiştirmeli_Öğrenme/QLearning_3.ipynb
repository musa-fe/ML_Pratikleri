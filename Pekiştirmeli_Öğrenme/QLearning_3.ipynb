{
  "cells": [
    {
      "cell_type": "code",
      "source": [
        "import gym\n",
        "import numpy as np\n",
        "import random\n",
        "from tensorflow.keras import models, layers\n",
        "from tqdm import tqdm\n",
        "\n",
        "env = gym.make(\"Taxi-v3\", render_mode=\"ansi\")\n",
        "env.reset()\n",
        "print(env.render())\n",
        "\n",
        "\"\"\"\n",
        "0: guney\n",
        "1: kuzey\n",
        "2: dogu\n",
        "3: bati\n",
        "4: yolculuyu almak\n",
        "5: yolculuyu birak\n",
        "\"\"\"\n",
        "action_space = env.action_space.n\n",
        "state_space = env.observation_space.n\n",
        "\n",
        "q_table = np.zeros((state_space, action_space))\n",
        "\n",
        "alpha = 0.1  # learning rate\n",
        "gamma = 0.6  # discount rate\n",
        "epsilon = 0.1  # epsilon\n",
        "\n",
        "# Initialize variables\n",
        "penalties = 0\n",
        "epochs = 0\n",
        "total_epochs = 0\n",
        "total_penalties = 0\n",
        "episodes = 100000 # Assuming episodes is intended to be the same as the tqdm range\n",
        "\n",
        "for i in tqdm(range(1, episodes + 1)):\n",
        "    state_, _ = env.reset() # Extract the state from the tuple\n",
        "    done = False\n",
        "    penalties_episode = 0\n",
        "    epochs_episode = 0\n",
        "\n",
        "\n",
        "    while not done:\n",
        "        if random.uniform(0, 1) < epsilon:  # explore %10\n",
        "            action = env.action_space.sample()\n",
        "        else:  # exploit\n",
        "            action = np.argmax(q_table[state_])\n",
        "\n",
        "        next_state, reward, terminated, truncated, info = env.step(action)\n",
        "        done = terminated or truncated\n",
        "        state = state_\n",
        "        state_ = next_state\n",
        "        q_table[state, action] = q_table[state, action] + alpha * (reward + gamma * np.max(q_table[next_state]) - q_table[state, action])\n",
        "        epochs_episode += 1\n",
        "\n",
        "        if reward == -10:\n",
        "            penalties_episode += 1\n",
        "\n",
        "    penalties += penalties_episode\n",
        "    epochs += epochs_episode\n",
        "    total_epochs += epochs_episode\n",
        "    total_penalties += penalties_episode\n",
        "\n",
        "\n",
        "print(\"Result after {} episodes\".format(episodes))\n",
        "print(\"Average timestep per episode: \", total_epochs/episodes)\n",
        "print(\"Average penalties per episode: \", total_penalties/episodes)"
      ],
      "metadata": {
        "colab": {
          "base_uri": "https://localhost:8080/"
        },
        "id": "pjkbCLyG7Hz4",
        "outputId": "0d98c0d9-81ff-4ae1-a8cc-93434b5f7db5"
      },
      "id": "pjkbCLyG7Hz4",
      "execution_count": 20,
      "outputs": [
        {
          "output_type": "stream",
          "name": "stdout",
          "text": [
            "+---------+\n",
            "|\u001b[34;1mR\u001b[0m: | : :G|\n",
            "| : | : : |\n",
            "| : : : : |\n",
            "|\u001b[43m \u001b[0m| : | : |\n",
            "|\u001b[35mY\u001b[0m| : |B: |\n",
            "+---------+\n",
            "\n",
            "\n"
          ]
        },
        {
          "output_type": "stream",
          "name": "stderr",
          "text": [
            "  0%|          | 0/100000 [00:00<?, ?it/s]/usr/local/lib/python3.11/dist-packages/gym/utils/passive_env_checker.py:233: DeprecationWarning: `np.bool8` is a deprecated alias for `np.bool_`.  (Deprecated NumPy 1.24)\n",
            "  if not isinstance(terminated, (bool, np.bool8)):\n",
            "100%|██████████| 100000/100000 [00:48<00:00, 2051.85it/s]"
          ]
        },
        {
          "output_type": "stream",
          "name": "stdout",
          "text": [
            "Result after 100000 episodes\n",
            "Average timestep per episode:  15.90217\n",
            "Average penalties per episode:  0.48881\n"
          ]
        },
        {
          "output_type": "stream",
          "name": "stderr",
          "text": [
            "\n"
          ]
        }
      ]
    }
  ],
  "metadata": {
    "kernelspec": {
      "display_name": "base",
      "language": "python",
      "name": "python3"
    },
    "language_info": {
      "codemirror_mode": {
        "name": "ipython",
        "version": 3
      },
      "file_extension": ".py",
      "mimetype": "text/x-python",
      "name": "python",
      "nbconvert_exporter": "python",
      "pygments_lexer": "ipython3",
      "version": "3.12.4"
    },
    "colab": {
      "provenance": []
    }
  },
  "nbformat": 4,
  "nbformat_minor": 5
}