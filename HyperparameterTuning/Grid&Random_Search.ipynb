{
  "cells": [
    {
      "cell_type": "markdown",
      "source": [
        "| Özellik            | Grid Search                 | Random Search                |\n",
        "| ------------------ | --------------------------- | ---------------------------- |\n",
        "| Deneme yöntemi     | Tüm kombinasyonlar          | Rastgele kombinasyonlar      |\n",
        "| Hız                | Yavaş (tüm kombinasyonlar)  | Hızlı (n\\_iter kadar deneme) |\n",
        "| Garanti            | En iyi sonucu bulur (kesin) | En iyiyi bulma garantisi yok |\n",
        "| Büyük veri         | Yavaşlar                    | Uygun                        |\n",
        "| Kullanım kolaylığı | Kolay                       | Kolay                        |\n"
      ],
      "metadata": {
        "id": "6sH3F7DCULAl"
      },
      "id": "6sH3F7DCULAl"
    },
    {
      "cell_type": "code",
      "source": [
        "from sklearn.datasets import load_iris\n",
        "from sklearn.model_selection import train_test_split, GridSearchCV, RandomizedSearchCV\n",
        "from sklearn.neighbors import KNeighborsClassifier\n",
        "\n",
        "import numpy as np\n",
        "\n",
        "iris = load_iris()\n",
        "X = iris.data\n",
        "y = iris.target\n",
        "\n",
        "X_train, X_test, y_train, y_test = train_test_split(X, y, test_size=0.2, random_state=42)\n",
        "\n",
        "knn = KNeighborsClassifier()\n",
        "knn_param_grid = {\"n_neighbors\": np.arange(2, 31)}\n",
        "knn_grid_search = GridSearchCV(knn, knn_param_grid)\n",
        "knn_grid_search.fit(X_train, y_train)\n",
        "print(\"KNN Grid Search Best Parameters: \", knn_grid_search.best_params_)\n",
        "print(\"KNN Grid Search Best Accuracy: \", knn_grid_search.best_score_)\n",
        "\n",
        "knn_random_search = RandomizedSearchCV(knn, knn_param_grid, n_iter=10)\n",
        "knn_random_search.fit(X_train, y_train)\n",
        "print(\"KNN Random Search Best Parameters: \", knn_random_search.best_params_)\n",
        "print(\"KNN Random Search Best Accuracy: \", knn_random_search.best_score_)"
      ],
      "metadata": {
        "id": "HREbTSV_TdgZ",
        "outputId": "57c6a41f-44f9-4ab7-b996-c0c5c284a95a",
        "colab": {
          "base_uri": "https://localhost:8080/"
        }
      },
      "id": "HREbTSV_TdgZ",
      "execution_count": null,
      "outputs": [
        {
          "output_type": "stream",
          "name": "stdout",
          "text": [
            "KNN Grid Search Best Parameters:  {'n_neighbors': np.int64(3)}\n",
            "KNN Grid Search Best Accuracy:  0.9583333333333334\n",
            "KNN Random Search Best Parameters:  {'n_neighbors': np.int64(2)}\n",
            "KNN Random Search Best Accuracy:  0.95\n"
          ]
        }
      ]
    },
    {
      "cell_type": "markdown",
      "source": [
        "Zaman kısıtlı ise RandomSearch tercih edilebilir."
      ],
      "metadata": {
        "id": "NgO2ZEChU9ql"
      },
      "id": "NgO2ZEChU9ql"
    }
  ],
  "metadata": {
    "kernelspec": {
      "display_name": "base",
      "language": "python",
      "name": "python3"
    },
    "language_info": {
      "codemirror_mode": {
        "name": "ipython",
        "version": 3
      },
      "file_extension": ".py",
      "mimetype": "text/x-python",
      "name": "python",
      "nbconvert_exporter": "python",
      "pygments_lexer": "ipython3",
      "version": "3.12.4"
    },
    "colab": {
      "provenance": []
    }
  },
  "nbformat": 4,
  "nbformat_minor": 5
}