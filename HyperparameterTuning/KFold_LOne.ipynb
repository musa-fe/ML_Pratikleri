{
  "cells": [
    {
      "cell_type": "code",
      "source": [
        "from sklearn.datasets import load_iris\n",
        "from sklearn.model_selection import train_test_split, KFold, LeaveOneOut, GridSearchCV\n",
        "from sklearn.tree import DecisionTreeClassifier\n",
        "\n",
        "iris = load_iris()\n",
        "X = iris.data\n",
        "y = iris.target\n",
        "\n",
        "X_train, X_test, y_train, y_test = train_test_split(X, y, test_size=0.2, random_state=42)\n",
        "\n",
        "tree = DecisionTreeClassifier()\n",
        "tree_param_dist = {\"max_depth\": [3, 5, 7]}\n",
        "\n",
        "# KFOLD Grid Search\n",
        "kf = KFold(n_splits=10)\n",
        "tree_grid_search_kf = GridSearchCV(tree, tree_param_dist, cv=kf)\n",
        "tree_grid_search_kf.fit(X_train, y_train)\n",
        "print(\"KF En iyi parametre:\", tree_grid_search_kf.best_params_)\n",
        "print(\"KF En iyi acc:\", tree_grid_search_kf.best_score_)\n",
        "\n",
        "# LOO\n",
        "loo = LeaveOneOut()\n",
        "tree_grid_search_loo = GridSearchCV(tree, tree_param_dist, cv=loo)\n",
        "tree_grid_search_loo.fit(X_train, y_train)\n",
        "print(\"LOO En iyi parametre:\", tree_grid_search_loo.best_params_)\n",
        "print(\"LOO En iyi acc:\", tree_grid_search_loo.best_score_)\n"
      ],
      "metadata": {
        "id": "HREbTSV_TdgZ",
        "outputId": "bb2c4d2d-c92a-41ab-9017-da9f122336fa",
        "colab": {
          "base_uri": "https://localhost:8080/"
        }
      },
      "id": "HREbTSV_TdgZ",
      "execution_count": 2,
      "outputs": [
        {
          "output_type": "stream",
          "name": "stdout",
          "text": [
            "KF En iyi parametre: {'max_depth': 7}\n",
            "KF En iyi acc: 0.9416666666666667\n",
            "LOO En iyi parametre: {'max_depth': 3}\n",
            "LOO En iyi acc: 0.925\n"
          ]
        }
      ]
    }
  ],
  "metadata": {
    "kernelspec": {
      "display_name": "base",
      "language": "python",
      "name": "python3"
    },
    "language_info": {
      "codemirror_mode": {
        "name": "ipython",
        "version": 3
      },
      "file_extension": ".py",
      "mimetype": "text/x-python",
      "name": "python",
      "nbconvert_exporter": "python",
      "pygments_lexer": "ipython3",
      "version": "3.12.4"
    },
    "colab": {
      "provenance": []
    }
  },
  "nbformat": 4,
  "nbformat_minor": 5
}